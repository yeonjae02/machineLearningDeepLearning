{
  "nbformat": 4,
  "nbformat_minor": 0,
  "metadata": {
    "colab": {
      "provenance": [],
      "gpuType": "T4"
    },
    "kernelspec": {
      "name": "python3",
      "display_name": "Python 3"
    },
    "language_info": {
      "name": "python"
    },
    "accelerator": "GPU"
  },
  "cells": [
    {
      "cell_type": "code",
      "source": [
        "from tensorflow.keras.datasets import imdb\n",
        "\n",
        "(train_input, train_target), (test_input, test_target) = imdb.load_data(num_words=300)"
      ],
      "metadata": {
        "id": "zjj8p7qHX8zw"
      },
      "execution_count": 3,
      "outputs": []
    },
    {
      "cell_type": "code",
      "source": [
        "train_input.shape, test_input.shape"
      ],
      "metadata": {
        "colab": {
          "base_uri": "https://localhost:8080/"
        },
        "id": "ja9tLr-kYPH7",
        "outputId": "cd438253-5cc7-43a0-8b2b-037ed5f7707f"
      },
      "execution_count": 4,
      "outputs": [
        {
          "output_type": "execute_result",
          "data": {
            "text/plain": [
              "((25000,), (25000,))"
            ]
          },
          "metadata": {},
          "execution_count": 4
        }
      ]
    },
    {
      "cell_type": "code",
      "source": [
        "from sklearn.model_selection import train_test_split\n",
        "\n",
        "train_input, val_input, train_target, val_target = train_test_split(\n",
        "    train_input, train_target, test_size=0.2, random_state=42)"
      ],
      "metadata": {
        "id": "qMEd8AGXYYuQ"
      },
      "execution_count": 5,
      "outputs": []
    },
    {
      "cell_type": "code",
      "source": [
        "import numpy as np\n",
        "\n",
        "lengths = np.array([len(x) for x in train_input])"
      ],
      "metadata": {
        "id": "CWDBxQktYa4v"
      },
      "execution_count": 6,
      "outputs": []
    },
    {
      "cell_type": "code",
      "source": [
        "import matplotlib.pyplot as plt\n",
        "\n",
        "plt.hist(lengths)\n",
        "plt.xlabel('length')\n",
        "plt.ylabel('frequency')\n",
        "plt.show()"
      ],
      "metadata": {
        "colab": {
          "base_uri": "https://localhost:8080/",
          "height": 449
        },
        "id": "Ene0qRz1Ye0D",
        "outputId": "8833a967-d594-4ef9-d484-b24dbc16b599"
      },
      "execution_count": 7,
      "outputs": [
        {
          "output_type": "display_data",
          "data": {
            "text/plain": [
              "<Figure size 640x480 with 1 Axes>"
            ],
            "image/png": "[encoded data removed]"
          },
          "metadata": {}
        }
      ]
    },
    {
      "cell_type": "code",
      "source": [
        "from tensorflow.keras.preprocessing.sequence import pad_sequences\n",
        "\n",
        "train_seq = pad_sequences(train_input, maxlen=100)"
      ],
      "metadata": {
        "id": "bq6P5NEzYgbY"
      },
      "execution_count": 8,
      "outputs": []
    },
    {
      "cell_type": "code",
      "source": [
        "train_seq.shape"
      ],
      "metadata": {
        "colab": {
          "base_uri": "https://localhost:8080/"
        },
        "id": "bsqBtZCeaC1Z",
        "outputId": "b366a1c6-16bd-4c52-9fb8-804babf7be5a"
      },
      "execution_count": 9,
      "outputs": [
        {
          "output_type": "execute_result",
          "data": {
            "text/plain": [
              "(20000, 100)"
            ]
          },
          "metadata": {},
          "execution_count": 9
        }
      ]
    },
    {
      "cell_type": "code",
      "source": [
        "train_seq[0]"
      ],
      "metadata": {
        "colab": {
          "base_uri": "https://localhost:8080/"
        },
        "id": "2ZFW_jv0agtu",
        "outputId": "0ddfc08c-49ef-4481-9e7b-f0358c7ab13a"
      },
      "execution_count": 10,
      "outputs": [
        {
          "output_type": "execute_result",
          "data": {
            "text/plain": [
              "array([ 10,   4,  20,   9,   2,   2,   2,   5,  45,   6,   2,   2,  33,\n",
              "       269,   8,   2, 142,   2,   5,   2,  17,  73,  17, 204,   5,   2,\n",
              "        19,  55,   2,   2,  92,  66, 104,  14,  20,  93,  76,   2, 151,\n",
              "        33,   4,  58,  12, 188,   2, 151,  12, 215,  69, 224, 142,  73,\n",
              "       237,   6,   2,   7,   2,   2, 188,   2, 103,  14,  31,  10,  10,\n",
              "         2,   7,   2,   5,   2,  80,  91,   2,  30,   2,  34,  14,  20,\n",
              "       151,  50,  26, 131,  49,   2,  84,  46,  50,  37,  80,  79,   6,\n",
              "         2,  46,   7,  14,  20,  10,  10,   2, 158], dtype=int32)"
            ]
          },
          "metadata": {},
          "execution_count": 10
        }
      ]
    },
    {
      "cell_type": "code",
      "source": [
        "train_input[0][-10:]"
      ],
      "metadata": {
        "colab": {
          "base_uri": "https://localhost:8080/"
        },
        "id": "oU32pNVEajkf",
        "outputId": "88d0b884-35d5-45a7-da19-0c0fbc1abbc1"
      },
      "execution_count": 11,
      "outputs": [
        {
          "output_type": "execute_result",
          "data": {
            "text/plain": [
              "[6, 2, 46, 7, 14, 20, 10, 10, 2, 158]"
            ]
          },
          "metadata": {},
          "execution_count": 11
        }
      ]
    },
    {
      "cell_type": "code",
      "source": [
        "train_input[0][-10:]"
      ],
      "metadata": {
        "colab": {
          "base_uri": "https://localhost:8080/"
        },
        "id": "BqyLMmAQamh5",
        "outputId": "6c87a22d-7df4-4704-cd95-3f505c5e6f3e"
      },
      "execution_count": 12,
      "outputs": [
        {
          "output_type": "execute_result",
          "data": {
            "text/plain": [
              "[6, 2, 46, 7, 14, 20, 10, 10, 2, 158]"
            ]
          },
          "metadata": {},
          "execution_count": 12
        }
      ]
    },
    {
      "cell_type": "code",
      "source": [
        "train_seq[5]"
      ],
      "metadata": {
        "colab": {
          "base_uri": "https://localhost:8080/"
        },
        "id": "lMw6Skpparq5",
        "outputId": "283342c4-89ff-4793-c48f-31b6cf7d642b"
      },
      "execution_count": 13,
      "outputs": [
        {
          "output_type": "execute_result",
          "data": {
            "text/plain": [
              "array([  0,   0,   0,   0,   1,   2, 195,  19,  49,   2,   2, 190,   4,\n",
              "         2,   2,   2, 183,  10,  10,  13,  82,  79,   4,   2,  36,  71,\n",
              "       269,   8,   2,  25,  19,  49,   7,   4,   2,   2,   2,   2,   2,\n",
              "        10,  10,  48,  25,  40,   2,  11,   2,   2,  40,   2,   2,   5,\n",
              "         4,   2,   2,  95,  14, 238,  56, 129,   2,  10,  10,  21,   2,\n",
              "        94,   2,   2,   2,   2,  11, 190,  24,   2,   2,   7,  94, 205,\n",
              "         2,  10,  10,  87,   2,  34,  49,   2,   7,   2,   2,   2,   2,\n",
              "         2, 290,   2,  46,  48,  64,  18,   4,   2], dtype=int32)"
            ]
          },
          "metadata": {},
          "execution_count": 13
        }
      ]
    },
    {
      "cell_type": "code",
      "source": [
        "val_seq = pad_sequences(val_input, maxlen=100)"
      ],
      "metadata": {
        "id": "dUwmH9wFat1M"
      },
      "execution_count": 15,
      "outputs": []
    },
    {
      "cell_type": "code",
      "source": [
        "from tensorflow import keras\n",
        "\n",
        "model = keras.Sequential()\n",
        "\n",
        "model.add(keras.layers.SimpleRNN(8, input_shape=(100, 300)))\n",
        "model.add(keras.layers.Dense(1, activation='sigmoid'))"
      ],
      "metadata": {
        "id": "C2T1ebWwawCS"
      },
      "execution_count": 16,
      "outputs": []
    },
    {
      "cell_type": "code",
      "source": [
        "train_oh = keras.utils.to_categorical(train_seq)"
      ],
      "metadata": {
        "id": "xYo3TTZJazy5"
      },
      "execution_count": 17,
      "outputs": []
    },
    {
      "cell_type": "code",
      "source": [
        "train_oh.shape"
      ],
      "metadata": {
        "colab": {
          "base_uri": "https://localhost:8080/"
        },
        "id": "MC4k65YEa58U",
        "outputId": "0cde9184-335c-4ebc-bb28-0d11faee73a6"
      },
      "execution_count": 18,
      "outputs": [
        {
          "output_type": "execute_result",
          "data": {
            "text/plain": [
              "(20000, 100, 300)"
            ]
          },
          "metadata": {},
          "execution_count": 18
        }
      ]
    },
    {
      "cell_type": "code",
      "source": [
        "train_oh[0][0][:12]"
      ],
      "metadata": {
        "colab": {
          "base_uri": "https://localhost:8080/"
        },
        "id": "_mmifQBYa7Xc",
        "outputId": "49d584ae-4b4d-4506-b27a-3b1d1349b9cc"
      },
      "execution_count": 19,
      "outputs": [
        {
          "output_type": "execute_result",
          "data": {
            "text/plain": [
              "array([0., 0., 0., 0., 0., 0., 0., 0., 0., 0., 1., 0.], dtype=float32)"
            ]
          },
          "metadata": {},
          "execution_count": 19
        }
      ]
    },
    {
      "cell_type": "code",
      "source": [
        "np.sum(train_oh[0][0])"
      ],
      "metadata": {
        "colab": {
          "base_uri": "https://localhost:8080/"
        },
        "id": "gM-jDT0Ra7ei",
        "outputId": "cb63a4b9-736f-47d0-f754-5462b2efb3bd"
      },
      "execution_count": 20,
      "outputs": [
        {
          "output_type": "execute_result",
          "data": {
            "text/plain": [
              "1.0"
            ]
          },
          "metadata": {},
          "execution_count": 20
        }
      ]
    },
    {
      "cell_type": "code",
      "source": [
        "val_oh = keras.utils.to_categorical(val_seq)"
      ],
      "metadata": {
        "id": "cYx408QIa7n7"
      },
      "execution_count": 21,
      "outputs": []
    },
    {
      "cell_type": "code",
      "source": [
        "model.summary()"
      ],
      "metadata": {
        "colab": {
          "base_uri": "https://localhost:8080/"
        },
        "id": "omOIO5Kea7xm",
        "outputId": "40509e88-a4cc-421a-e300-3230db886032"
      },
      "execution_count": 22,
      "outputs": [
        {
          "output_type": "stream",
          "name": "stdout",
          "text": [
            "Model: \"sequential\"\n",
            "_________________________________________________________________\n",
            " Layer (type)                Output Shape              Param #   \n",
            "=================================================================\n",
            " simple_rnn (SimpleRNN)      (None, 8)                 2472      \n",
            "                                                                 \n",
            " dense (Dense)               (None, 1)                 9         \n",
            "                                                                 \n",
            "=================================================================\n",
            "Total params: 2481 (9.69 KB)\n",
            "Trainable params: 2481 (9.69 KB)\n",
            "Non-trainable params: 0 (0.00 Byte)\n",
            "_________________________________________________________________\n"
          ]
        }
      ]
    },
    {
      "cell_type": "code",
      "source": [
        "rmsprop = keras.optimizers.RMSprop(learning_rate=1e-4)\n",
        "model.compile(optimizer=rmsprop, loss='binary_crossentropy',\n",
        "              metrics=['accuracy'])\n",
        "\n",
        "checkpoint_cb = keras.callbacks.ModelCheckpoint('best-simplernn-model.h5',\n",
        "                                                save_best_only=True)\n",
        "early_stopping_cb = keras.callbacks.EarlyStopping(patience=3,\n",
        "                                                  restore_best_weights=True)\n",
        "\n",
        "history = model.fit(train_oh, train_target, epochs=100, batch_size=64,\n",
        "                    validation_data=(val_oh, val_target),\n",
        "                    callbacks=[checkpoint_cb, early_stopping_cb])"
      ],
      "metadata": {
        "colab": {
          "base_uri": "https://localhost:8080/"
        },
        "id": "H_Z5LXkTbGNS",
        "outputId": "bdff256c-1d40-45f5-d2c9-7b3b708a3a72"
      },
      "execution_count": 23,
      "outputs": [
        {
          "output_type": "stream",
          "name": "stdout",
          "text": [
            "Epoch 1/100\n",
            "313/313 [==============================] - 28s 80ms/step - loss: 0.6998 - accuracy: 0.5049 - val_loss: 0.6966 - val_accuracy: 0.5034\n",
            "Epoch 2/100\n",
            "  2/313 [..............................] - ETA: 17s - loss: 0.7077 - accuracy: 0.4844"
          ]
        },
        {
          "output_type": "stream",
          "name": "stderr",
          "text": [
            "/usr/local/lib/python3.10/dist-packages/keras/src/engine/training.py:3103: UserWarning: You are saving your model as an HDF5 file via `model.save()`. This file format is considered legacy. We recommend using instead the native Keras format, e.g. `model.save('my_model.keras')`.\n",
            "  saving_api.save_model(\n"
          ]
        },
        {
          "output_type": "stream",
          "name": "stdout",
          "text": [
            "313/313 [==============================] - 30s 95ms/step - loss: 0.6945 - accuracy: 0.5109 - val_loss: 0.6946 - val_accuracy: 0.5056\n",
            "Epoch 3/100\n",
            "313/313 [==============================] - 23s 73ms/step - loss: 0.6930 - accuracy: 0.5144 - val_loss: 0.6936 - val_accuracy: 0.5072\n",
            "Epoch 4/100\n",
            "313/313 [==============================] - 23s 72ms/step - loss: 0.6921 - accuracy: 0.5174 - val_loss: 0.6930 - val_accuracy: 0.5104\n",
            "Epoch 5/100\n",
            "313/313 [==============================] - 22s 71ms/step - loss: 0.6913 - accuracy: 0.5214 - val_loss: 0.6924 - val_accuracy: 0.5172\n",
            "Epoch 6/100\n",
            "313/313 [==============================] - 23s 72ms/step - loss: 0.6907 - accuracy: 0.5263 - val_loss: 0.6921 - val_accuracy: 0.5142\n",
            "Epoch 7/100\n",
            "313/313 [==============================] - 22s 71ms/step - loss: 0.6900 - accuracy: 0.5311 - val_loss: 0.6916 - val_accuracy: 0.5186\n",
            "Epoch 8/100\n",
            "313/313 [==============================] - 22s 71ms/step - loss: 0.6893 - accuracy: 0.5343 - val_loss: 0.6913 - val_accuracy: 0.5204\n",
            "Epoch 9/100\n",
            "313/313 [==============================] - 21s 68ms/step - loss: 0.6886 - accuracy: 0.5375 - val_loss: 0.6909 - val_accuracy: 0.5218\n",
            "Epoch 10/100\n",
            "313/313 [==============================] - 21s 68ms/step - loss: 0.6878 - accuracy: 0.5401 - val_loss: 0.6907 - val_accuracy: 0.5206\n",
            "Epoch 11/100\n",
            "313/313 [==============================] - 22s 70ms/step - loss: 0.6870 - accuracy: 0.5451 - val_loss: 0.6904 - val_accuracy: 0.5232\n",
            "Epoch 12/100\n",
            "313/313 [==============================] - 22s 69ms/step - loss: 0.6862 - accuracy: 0.5454 - val_loss: 0.6904 - val_accuracy: 0.5258\n",
            "Epoch 13/100\n",
            "313/313 [==============================] - 21s 66ms/step - loss: 0.6854 - accuracy: 0.5488 - val_loss: 0.6903 - val_accuracy: 0.5262\n",
            "Epoch 14/100\n",
            "313/313 [==============================] - 22s 71ms/step - loss: 0.6846 - accuracy: 0.5508 - val_loss: 0.6902 - val_accuracy: 0.5276\n",
            "Epoch 15/100\n",
            "313/313 [==============================] - 22s 70ms/step - loss: 0.6838 - accuracy: 0.5532 - val_loss: 0.6901 - val_accuracy: 0.5292\n",
            "Epoch 16/100\n",
            "313/313 [==============================] - 21s 68ms/step - loss: 0.6830 - accuracy: 0.5551 - val_loss: 0.6902 - val_accuracy: 0.5286\n",
            "Epoch 17/100\n",
            "313/313 [==============================] - 22s 71ms/step - loss: 0.6822 - accuracy: 0.5574 - val_loss: 0.6900 - val_accuracy: 0.5312\n",
            "Epoch 18/100\n",
            "313/313 [==============================] - 23s 74ms/step - loss: 0.6814 - accuracy: 0.5569 - val_loss: 0.6895 - val_accuracy: 0.5332\n",
            "Epoch 19/100\n",
            "313/313 [==============================] - 23s 73ms/step - loss: 0.6805 - accuracy: 0.5592 - val_loss: 0.6898 - val_accuracy: 0.5376\n",
            "Epoch 20/100\n",
            "313/313 [==============================] - 21s 67ms/step - loss: 0.6796 - accuracy: 0.5614 - val_loss: 0.6895 - val_accuracy: 0.5380\n",
            "Epoch 21/100\n",
            "313/313 [==============================] - 22s 70ms/step - loss: 0.6785 - accuracy: 0.5645 - val_loss: 0.6890 - val_accuracy: 0.5404\n",
            "Epoch 22/100\n",
            "313/313 [==============================] - 22s 71ms/step - loss: 0.6764 - accuracy: 0.5743 - val_loss: 0.6863 - val_accuracy: 0.5556\n",
            "Epoch 23/100\n",
            "313/313 [==============================] - 21s 66ms/step - loss: 0.6716 - accuracy: 0.5884 - val_loss: 0.6810 - val_accuracy: 0.5632\n",
            "Epoch 24/100\n",
            "313/313 [==============================] - 22s 71ms/step - loss: 0.6645 - accuracy: 0.6084 - val_loss: 0.6728 - val_accuracy: 0.5890\n",
            "Epoch 25/100\n",
            "313/313 [==============================] - 22s 69ms/step - loss: 0.6550 - accuracy: 0.6314 - val_loss: 0.6621 - val_accuracy: 0.6178\n",
            "Epoch 26/100\n",
            "313/313 [==============================] - 21s 66ms/step - loss: 0.6440 - accuracy: 0.6531 - val_loss: 0.6510 - val_accuracy: 0.6394\n",
            "Epoch 27/100\n",
            "313/313 [==============================] - 22s 70ms/step - loss: 0.6325 - accuracy: 0.6693 - val_loss: 0.6402 - val_accuracy: 0.6576\n",
            "Epoch 28/100\n",
            "313/313 [==============================] - 22s 71ms/step - loss: 0.6202 - accuracy: 0.6844 - val_loss: 0.6297 - val_accuracy: 0.6700\n",
            "Epoch 29/100\n",
            "313/313 [==============================] - 21s 66ms/step - loss: 0.6079 - accuracy: 0.6998 - val_loss: 0.6167 - val_accuracy: 0.6856\n",
            "Epoch 30/100\n",
            "313/313 [==============================] - 22s 70ms/step - loss: 0.5963 - accuracy: 0.7099 - val_loss: 0.6056 - val_accuracy: 0.6952\n",
            "Epoch 31/100\n",
            "313/313 [==============================] - 22s 70ms/step - loss: 0.5858 - accuracy: 0.7180 - val_loss: 0.5964 - val_accuracy: 0.7062\n",
            "Epoch 32/100\n",
            "313/313 [==============================] - 23s 74ms/step - loss: 0.5760 - accuracy: 0.7240 - val_loss: 0.5877 - val_accuracy: 0.7082\n",
            "Epoch 33/100\n",
            "313/313 [==============================] - 21s 66ms/step - loss: 0.5679 - accuracy: 0.7284 - val_loss: 0.5801 - val_accuracy: 0.7158\n",
            "Epoch 34/100\n",
            "313/313 [==============================] - 22s 70ms/step - loss: 0.5598 - accuracy: 0.7347 - val_loss: 0.5726 - val_accuracy: 0.7172\n",
            "Epoch 35/100\n",
            "313/313 [==============================] - 22s 72ms/step - loss: 0.5529 - accuracy: 0.7393 - val_loss: 0.5659 - val_accuracy: 0.7246\n",
            "Epoch 36/100\n",
            "313/313 [==============================] - 21s 67ms/step - loss: 0.5459 - accuracy: 0.7426 - val_loss: 0.5595 - val_accuracy: 0.7282\n",
            "Epoch 37/100\n",
            "313/313 [==============================] - 22s 71ms/step - loss: 0.5396 - accuracy: 0.7466 - val_loss: 0.5533 - val_accuracy: 0.7330\n",
            "Epoch 38/100\n",
            "313/313 [==============================] - 23s 73ms/step - loss: 0.5337 - accuracy: 0.7498 - val_loss: 0.5480 - val_accuracy: 0.7356\n",
            "Epoch 39/100\n",
            "313/313 [==============================] - 22s 71ms/step - loss: 0.5288 - accuracy: 0.7509 - val_loss: 0.5472 - val_accuracy: 0.7342\n",
            "Epoch 40/100\n",
            "313/313 [==============================] - 21s 67ms/step - loss: 0.5235 - accuracy: 0.7565 - val_loss: 0.5397 - val_accuracy: 0.7380\n",
            "Epoch 41/100\n",
            "313/313 [==============================] - 23s 72ms/step - loss: 0.5196 - accuracy: 0.7577 - val_loss: 0.5344 - val_accuracy: 0.7412\n",
            "Epoch 42/100\n",
            "313/313 [==============================] - 22s 71ms/step - loss: 0.5157 - accuracy: 0.7588 - val_loss: 0.5322 - val_accuracy: 0.7416\n",
            "Epoch 43/100\n",
            "313/313 [==============================] - 21s 68ms/step - loss: 0.5121 - accuracy: 0.7613 - val_loss: 0.5328 - val_accuracy: 0.7422\n",
            "Epoch 44/100\n",
            "313/313 [==============================] - 22s 70ms/step - loss: 0.5088 - accuracy: 0.7632 - val_loss: 0.5312 - val_accuracy: 0.7406\n",
            "Epoch 45/100\n",
            "313/313 [==============================] - 22s 70ms/step - loss: 0.5061 - accuracy: 0.7653 - val_loss: 0.5255 - val_accuracy: 0.7434\n",
            "Epoch 46/100\n",
            "313/313 [==============================] - 21s 67ms/step - loss: 0.5033 - accuracy: 0.7671 - val_loss: 0.5255 - val_accuracy: 0.7500\n",
            "Epoch 47/100\n",
            "313/313 [==============================] - 22s 69ms/step - loss: 0.5016 - accuracy: 0.7686 - val_loss: 0.5217 - val_accuracy: 0.7470\n",
            "Epoch 48/100\n",
            "313/313 [==============================] - 22s 70ms/step - loss: 0.4996 - accuracy: 0.7691 - val_loss: 0.5222 - val_accuracy: 0.7466\n",
            "Epoch 49/100\n",
            "313/313 [==============================] - 22s 72ms/step - loss: 0.4968 - accuracy: 0.7705 - val_loss: 0.5204 - val_accuracy: 0.7450\n",
            "Epoch 50/100\n",
            "313/313 [==============================] - 21s 66ms/step - loss: 0.4955 - accuracy: 0.7713 - val_loss: 0.5192 - val_accuracy: 0.7440\n",
            "Epoch 51/100\n",
            "313/313 [==============================] - 22s 71ms/step - loss: 0.4942 - accuracy: 0.7702 - val_loss: 0.5209 - val_accuracy: 0.7446\n",
            "Epoch 52/100\n",
            "313/313 [==============================] - 22s 71ms/step - loss: 0.4925 - accuracy: 0.7724 - val_loss: 0.5175 - val_accuracy: 0.7470\n",
            "Epoch 53/100\n",
            "313/313 [==============================] - 20s 65ms/step - loss: 0.4911 - accuracy: 0.7721 - val_loss: 0.5178 - val_accuracy: 0.7476\n",
            "Epoch 54/100\n",
            "313/313 [==============================] - 22s 72ms/step - loss: 0.4899 - accuracy: 0.7740 - val_loss: 0.5186 - val_accuracy: 0.7456\n",
            "Epoch 55/100\n",
            "313/313 [==============================] - 23s 73ms/step - loss: 0.4892 - accuracy: 0.7736 - val_loss: 0.5158 - val_accuracy: 0.7492\n",
            "Epoch 56/100\n",
            "313/313 [==============================] - 21s 68ms/step - loss: 0.4884 - accuracy: 0.7746 - val_loss: 0.5183 - val_accuracy: 0.7456\n",
            "Epoch 57/100\n",
            "313/313 [==============================] - 22s 69ms/step - loss: 0.4874 - accuracy: 0.7753 - val_loss: 0.5134 - val_accuracy: 0.7490\n",
            "Epoch 58/100\n",
            "313/313 [==============================] - 22s 71ms/step - loss: 0.4859 - accuracy: 0.7752 - val_loss: 0.5147 - val_accuracy: 0.7516\n",
            "Epoch 59/100\n",
            "313/313 [==============================] - 21s 68ms/step - loss: 0.4857 - accuracy: 0.7770 - val_loss: 0.5118 - val_accuracy: 0.7546\n",
            "Epoch 60/100\n",
            "313/313 [==============================] - 22s 69ms/step - loss: 0.4848 - accuracy: 0.7771 - val_loss: 0.5133 - val_accuracy: 0.7522\n",
            "Epoch 61/100\n",
            "313/313 [==============================] - 22s 71ms/step - loss: 0.4839 - accuracy: 0.7743 - val_loss: 0.5120 - val_accuracy: 0.7528\n",
            "Epoch 62/100\n",
            "313/313 [==============================] - 22s 69ms/step - loss: 0.4833 - accuracy: 0.7789 - val_loss: 0.5117 - val_accuracy: 0.7542\n",
            "Epoch 63/100\n",
            "313/313 [==============================] - 21s 66ms/step - loss: 0.4830 - accuracy: 0.7765 - val_loss: 0.5144 - val_accuracy: 0.7508\n",
            "Epoch 64/100\n",
            "313/313 [==============================] - 22s 71ms/step - loss: 0.4822 - accuracy: 0.7786 - val_loss: 0.5117 - val_accuracy: 0.7544\n",
            "Epoch 65/100\n",
            "313/313 [==============================] - 22s 70ms/step - loss: 0.4811 - accuracy: 0.7780 - val_loss: 0.5120 - val_accuracy: 0.7524\n",
            "Epoch 66/100\n",
            "313/313 [==============================] - 21s 66ms/step - loss: 0.4811 - accuracy: 0.7783 - val_loss: 0.5111 - val_accuracy: 0.7530\n",
            "Epoch 67/100\n",
            "313/313 [==============================] - 22s 69ms/step - loss: 0.4804 - accuracy: 0.7785 - val_loss: 0.5121 - val_accuracy: 0.7504\n",
            "Epoch 68/100\n",
            "313/313 [==============================] - 22s 71ms/step - loss: 0.4795 - accuracy: 0.7804 - val_loss: 0.5100 - val_accuracy: 0.7554\n",
            "Epoch 69/100\n",
            "313/313 [==============================] - 22s 69ms/step - loss: 0.4790 - accuracy: 0.7787 - val_loss: 0.5094 - val_accuracy: 0.7560\n",
            "Epoch 70/100\n",
            "313/313 [==============================] - 22s 70ms/step - loss: 0.4785 - accuracy: 0.7797 - val_loss: 0.5167 - val_accuracy: 0.7494\n",
            "Epoch 71/100\n",
            "313/313 [==============================] - 23s 72ms/step - loss: 0.4778 - accuracy: 0.7797 - val_loss: 0.5126 - val_accuracy: 0.7548\n",
            "Epoch 72/100\n",
            "313/313 [==============================] - 22s 71ms/step - loss: 0.4774 - accuracy: 0.7790 - val_loss: 0.5102 - val_accuracy: 0.7556\n"
          ]
        }
      ]
    },
    {
      "cell_type": "code",
      "source": [
        "plt.plot(history.history['loss'])\n",
        "plt.plot(history.history['val_loss'])\n",
        "plt.xlabel('epoch')\n",
        "plt.ylabel('loss')\n",
        "plt.legend(['train', 'val'])\n",
        "plt.show()"
      ],
      "metadata": {
        "colab": {
          "base_uri": "https://localhost:8080/",
          "height": 449
        },
        "id": "WIE9ui44bONU",
        "outputId": "1fe74b83-fd71-42f2-c8a6-4661a6425218"
      },
      "execution_count": 24,
      "outputs": [
        {
          "output_type": "display_data",
          "data": {
            "text/plain": [
              "<Figure size 640x480 with 1 Axes>"
            ],
            "image/png": "[encoded data removed]"
          },
          "metadata": {}
        }
      ]
    },
    {
      "cell_type": "code",
      "source": [
        "model2 = keras.Sequential()\n",
        "\n",
        "model2.add(keras.layers.Embedding(300, 16, input_length=100))\n",
        "model2.add(keras.layers.SimpleRNN(8))\n",
        "model2.add(keras.layers.Dense(1, activation='sigmoid'))\n",
        "\n",
        "model2.summary()"
      ],
      "metadata": {
        "colab": {
          "base_uri": "https://localhost:8080/"
        },
        "id": "TbMXaCuhbGTd",
        "outputId": "34c473f3-e56c-48e7-dd82-dd4cc8728cf3"
      },
      "execution_count": 25,
      "outputs": [
        {
          "output_type": "stream",
          "name": "stdout",
          "text": [
            "Model: \"sequential_1\"\n",
            "_________________________________________________________________\n",
            " Layer (type)                Output Shape              Param #   \n",
            "=================================================================\n",
            " embedding (Embedding)       (None, 100, 16)           4800      \n",
            "                                                                 \n",
            " simple_rnn_1 (SimpleRNN)    (None, 8)                 200       \n",
            "                                                                 \n",
            " dense_1 (Dense)             (None, 1)                 9         \n",
            "                                                                 \n",
            "=================================================================\n",
            "Total params: 5009 (19.57 KB)\n",
            "Trainable params: 5009 (19.57 KB)\n",
            "Non-trainable params: 0 (0.00 Byte)\n",
            "_________________________________________________________________\n"
          ]
        }
      ]
    },
    {
      "cell_type": "code",
      "source": [
        "rmsprop = keras.optimizers.RMSprop(learning_rate=1e-4)\n",
        "model2.compile(optimizer=rmsprop, loss='binary_crossentropy',\n",
        "               metrics=['accuracy'])\n",
        "\n",
        "checkpoint_cb = keras.callbacks.ModelCheckpoint('best-embedding-model.h5',\n",
        "                                                save_best_only=True)\n",
        "early_stopping_cb = keras.callbacks.EarlyStopping(patience=3,\n",
        "                                                  restore_best_weights=True)\n",
        "\n",
        "history = model2.fit(train_seq, train_target, epochs=20, batch_size=64,\n",
        "                     validation_data=(val_seq, val_target),\n",
        "                     callbacks=[checkpoint_cb, early_stopping_cb])"
      ],
      "metadata": {
        "colab": {
          "base_uri": "https://localhost:8080/"
        },
        "id": "6mOZxO-0bTPX",
        "outputId": "65e4bcb3-2372-44a1-b694-c87222277bbe"
      },
      "execution_count": 27,
      "outputs": [
        {
          "output_type": "stream",
          "name": "stdout",
          "text": [
            "Epoch 1/20\n",
            "313/313 [==============================] - 30s 94ms/step - loss: 0.5255 - accuracy: 0.7539 - val_loss: 0.5387 - val_accuracy: 0.7372\n",
            "Epoch 2/20\n",
            "313/313 [==============================] - 28s 91ms/step - loss: 0.5214 - accuracy: 0.7559 - val_loss: 0.5358 - val_accuracy: 0.7420\n",
            "Epoch 3/20\n",
            "313/313 [==============================] - 28s 89ms/step - loss: 0.5201 - accuracy: 0.7573 - val_loss: 0.5331 - val_accuracy: 0.7414\n",
            "Epoch 4/20\n",
            "313/313 [==============================] - 27s 87ms/step - loss: 0.5174 - accuracy: 0.7600 - val_loss: 0.5316 - val_accuracy: 0.7412\n",
            "Epoch 5/20\n",
            "313/313 [==============================] - 28s 90ms/step - loss: 0.5152 - accuracy: 0.7615 - val_loss: 0.5302 - val_accuracy: 0.7446\n",
            "Epoch 6/20\n",
            "313/313 [==============================] - 30s 95ms/step - loss: 0.5143 - accuracy: 0.7610 - val_loss: 0.5325 - val_accuracy: 0.7394\n",
            "Epoch 7/20\n",
            "313/313 [==============================] - 28s 90ms/step - loss: 0.5115 - accuracy: 0.7643 - val_loss: 0.5269 - val_accuracy: 0.7440\n",
            "Epoch 8/20\n",
            "313/313 [==============================] - 28s 90ms/step - loss: 0.5106 - accuracy: 0.7631 - val_loss: 0.5267 - val_accuracy: 0.7432\n",
            "Epoch 9/20\n",
            "313/313 [==============================] - 28s 90ms/step - loss: 0.5074 - accuracy: 0.7648 - val_loss: 0.5308 - val_accuracy: 0.7414\n",
            "Epoch 10/20\n",
            "313/313 [==============================] - 30s 95ms/step - loss: 0.5064 - accuracy: 0.7667 - val_loss: 0.5227 - val_accuracy: 0.7458\n",
            "Epoch 11/20\n",
            "313/313 [==============================] - 28s 91ms/step - loss: 0.5041 - accuracy: 0.7667 - val_loss: 0.5244 - val_accuracy: 0.7462\n",
            "Epoch 12/20\n",
            "313/313 [==============================] - 28s 91ms/step - loss: 0.5027 - accuracy: 0.7683 - val_loss: 0.5251 - val_accuracy: 0.7470\n",
            "Epoch 13/20\n",
            "313/313 [==============================] - 27s 88ms/step - loss: 0.5010 - accuracy: 0.7696 - val_loss: 0.5190 - val_accuracy: 0.7484\n",
            "Epoch 14/20\n",
            "313/313 [==============================] - 28s 89ms/step - loss: 0.4996 - accuracy: 0.7701 - val_loss: 0.5187 - val_accuracy: 0.7472\n",
            "Epoch 15/20\n",
            "313/313 [==============================] - 29s 92ms/step - loss: 0.4976 - accuracy: 0.7717 - val_loss: 0.5172 - val_accuracy: 0.7510\n",
            "Epoch 16/20\n",
            "313/313 [==============================] - 28s 91ms/step - loss: 0.4964 - accuracy: 0.7703 - val_loss: 0.5231 - val_accuracy: 0.7474\n",
            "Epoch 17/20\n",
            "313/313 [==============================] - 28s 89ms/step - loss: 0.4951 - accuracy: 0.7727 - val_loss: 0.5161 - val_accuracy: 0.7484\n",
            "Epoch 18/20\n",
            "313/313 [==============================] - 28s 89ms/step - loss: 0.4942 - accuracy: 0.7752 - val_loss: 0.5177 - val_accuracy: 0.7506\n",
            "Epoch 19/20\n",
            "313/313 [==============================] - 29s 92ms/step - loss: 0.4925 - accuracy: 0.7735 - val_loss: 0.5144 - val_accuracy: 0.7476\n",
            "Epoch 20/20\n",
            "313/313 [==============================] - 28s 89ms/step - loss: 0.4909 - accuracy: 0.7743 - val_loss: 0.5192 - val_accuracy: 0.7458\n"
          ]
        }
      ]
    },
    {
      "cell_type": "code",
      "source": [
        "plt.plot(history.history['loss'])\n",
        "plt.plot(history.history['val_loss'])\n",
        "plt.xlabel('epoch')\n",
        "plt.ylabel('loss')\n",
        "plt.legend(['train', 'val'])\n",
        "plt.show()"
      ],
      "metadata": {
        "colab": {
          "base_uri": "https://localhost:8080/",
          "height": 449
        },
        "id": "4Mrj4l-JbUhg",
        "outputId": "daae8e95-4752-4240-bd32-d53f5007204c"
      },
      "execution_count": 28,
      "outputs": [
        {
          "output_type": "display_data",
          "data": {
            "text/plain": [
              "<Figure size 640x480 with 1 Axes>"
            ],
            "image/png": "[encoded data removed]"
          },
          "metadata": {}
        }
      ]
    }
  ]
}